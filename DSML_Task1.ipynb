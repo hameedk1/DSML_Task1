{
  "nbformat": 4,
  "nbformat_minor": 0,
  "metadata": {
    "colab": {
      "provenance": [],
      "authorship_tag": "ABX9TyMFp4f3XFxwR0hxOl8DrMgk",
      "include_colab_link": true
    },
    "kernelspec": {
      "name": "python3",
      "display_name": "Python 3"
    },
    "language_info": {
      "name": "python"
    }
  },
  "cells": [
    {
      "cell_type": "markdown",
      "metadata": {
        "id": "view-in-github",
        "colab_type": "text"
      },
      "source": [
        "<a href=\"https://colab.research.google.com/github/hameedk1/DSML_Task1/blob/main/DSML_Task1.ipynb\" target=\"_parent\"><img src=\"https://colab.research.google.com/assets/colab-badge.svg\" alt=\"Open In Colab\"/></a>"
      ]
    },
    {
      "cell_type": "markdown",
      "source": [
        "Write Python code that prints your name, student number and email address.  \n",
        "An example runs of the program:  "
      ],
      "metadata": {
        "id": "HrofQDbehmC7"
      }
    },
    {
      "cell_type": "code",
      "source": [
        "name = \"Your Name\"\n",
        "student_number = \"12345\"\n",
        "email_address = \"yourname@example.com\"\n",
        "\n",
        "print(\"Name:\", name)\n",
        "print(\"Student Number:\", student_number)\n",
        "print(\"Email Address:\", email_address)"
      ],
      "metadata": {
        "colab": {
          "base_uri": "https://localhost:8080/"
        },
        "id": "9rz0tTMkhvvj",
        "outputId": "8f4acb98-3bc4-43f4-d782-59b2e9c7a74a"
      },
      "execution_count": 1,
      "outputs": [
        {
          "output_type": "stream",
          "name": "stdout",
          "text": [
            "Name: Your Name\n",
            "Student Number: 12345\n",
            "Email Address: yourname@example.com\n"
          ]
        }
      ]
    },
    {
      "cell_type": "markdown",
      "source": [
        "Write Python code that prints your name, student number and email address using escape sequences."
      ],
      "metadata": {
        "id": "JX5eLUa5h9fr"
      }
    },
    {
      "cell_type": "code",
      "source": [
        "print(\"Name: John Doe\\nStudent Number: 12345\\nEmail Address: johndoe@example.com\")"
      ],
      "metadata": {
        "colab": {
          "base_uri": "https://localhost:8080/"
        },
        "id": "TKQkByTbh-5s",
        "outputId": "4eff4464-10aa-4a3a-c399-957b45e9e174"
      },
      "execution_count": 2,
      "outputs": [
        {
          "output_type": "stream",
          "name": "stdout",
          "text": [
            "Name: John Doe\n",
            "Student Number: 12345\n",
            "Email Address: johndoe@example.com\n"
          ]
        }
      ]
    },
    {
      "cell_type": "markdown",
      "source": [
        "Write Python code that add, subtract, multiply and divide the two numbers. You can use the two numbers 14 and 7.  An example run of the program:  "
      ],
      "metadata": {
        "id": "SplCynWoiHBK"
      }
    },
    {
      "cell_type": "code",
      "source": [
        "# Define the two numbers\n",
        "num1 = 14\n",
        "num2 = 7\n",
        "\n",
        "# Addition\n",
        "addition = num1 + num2\n",
        "\n",
        "# Subtraction\n",
        "subtraction = num1 - num2\n",
        "\n",
        "# Multiplication\n",
        "multiplication = num1 * num2\n",
        "\n",
        "# Division (handling division by zero)\n",
        "division = num1 / num2 if num2 != 0 else \"Cannot divide by zero\"\n",
        "\n",
        "# Print the results\n",
        "print(f\"Addition: {num1} + {num2} = {addition}\")\n",
        "print(f\"Subtraction: {num1} - {num2} = {subtraction}\")\n",
        "print(f\"Multiplication: {num1} * {num2} = {multiplication}\")\n",
        "print(f\"Division: {num1} / {num2} = {division}\")"
      ],
      "metadata": {
        "colab": {
          "base_uri": "https://localhost:8080/"
        },
        "id": "GFFH-D-xiNJN",
        "outputId": "f7cb9ff5-b6e7-4954-c988-b9726a3bd152"
      },
      "execution_count": 3,
      "outputs": [
        {
          "output_type": "stream",
          "name": "stdout",
          "text": [
            "Addition: 14 + 7 = 21\n",
            "Subtraction: 14 - 7 = 7\n",
            "Multiplication: 14 * 7 = 98\n",
            "Division: 14 / 7 = 2.0\n"
          ]
        }
      ]
    },
    {
      "cell_type": "markdown",
      "source": [
        "Write Python code that displays the numbers from 1 to 5 as steps.\n",
        "An example runs of the program:"
      ],
      "metadata": {
        "id": "qlNt7s9ridEA"
      }
    },
    {
      "cell_type": "code",
      "source": [
        "for i in range(1, 6):\n",
        "    print(f\"Step {i}: {i}\")"
      ],
      "metadata": {
        "colab": {
          "base_uri": "https://localhost:8080/"
        },
        "id": "_h5AOhycikF5",
        "outputId": "99888643-2c9f-43a3-eb17-eda5ff6610d1"
      },
      "execution_count": 4,
      "outputs": [
        {
          "output_type": "stream",
          "name": "stdout",
          "text": [
            "Step 1: 1\n",
            "Step 2: 2\n",
            "Step 3: 3\n",
            "Step 4: 4\n",
            "Step 5: 5\n"
          ]
        }
      ]
    },
    {
      "cell_type": "markdown",
      "source": [
        "Write Python code that outputs the following sentence (including the quotation marks and line break) to the screen:"
      ],
      "metadata": {
        "id": "vofO9Mavi5QI"
      }
    },
    {
      "cell_type": "code",
      "source": [
        "print('\"Python is a great programming language\"\\nIt is versatile and powerful.')"
      ],
      "metadata": {
        "colab": {
          "base_uri": "https://localhost:8080/"
        },
        "id": "tG3ZPixEjPQR",
        "outputId": "b38ab985-02e7-4553-98ed-4de4387ad472"
      },
      "execution_count": 5,
      "outputs": [
        {
          "output_type": "stream",
          "name": "stdout",
          "text": [
            "\"Python is a great programming language\"\n",
            "It is versatile and powerful.\n"
          ]
        }
      ]
    },
    {
      "cell_type": "markdown",
      "source": [
        "Practice and check the output\n",
        "print(\"python is an \\\"awesome\\\" language.\")\n",
        "print(\"python\\n\\t2023\")\n",
        "print('I\\'m from Entri.\\b')\n",
        "print(\"\\65\")\n",
        "print(\"\\x65\")\n",
        "print(\"Entri\", \"2023\", sep=\"\\n\")\n",
        "print(\"Entri\", \"2023\", sep=\"\\b\")\n",
        "print(\"Entri\", \"2023\", sep=\"*\", end=\"\\b\\b\\b\\b\")"
      ],
      "metadata": {
        "id": "isDa-JeyjWlu"
      }
    },
    {
      "cell_type": "code",
      "source": [
        "print(\"python is an \\\"awesome\\\" language.\")"
      ],
      "metadata": {
        "colab": {
          "base_uri": "https://localhost:8080/"
        },
        "id": "V8A6K7urkAC-",
        "outputId": "0e38cb49-2e87-4f8a-81da-dd06341d8fa4"
      },
      "execution_count": 6,
      "outputs": [
        {
          "output_type": "stream",
          "name": "stdout",
          "text": [
            "python is an \"awesome\" language.\n"
          ]
        }
      ]
    },
    {
      "cell_type": "code",
      "source": [
        "print(\"python\\n\\t2023\")"
      ],
      "metadata": {
        "colab": {
          "base_uri": "https://localhost:8080/"
        },
        "id": "mLFjdTfzkFx0",
        "outputId": "99162f0a-a42b-4b43-af13-6efa32aca142"
      },
      "execution_count": 7,
      "outputs": [
        {
          "output_type": "stream",
          "name": "stdout",
          "text": [
            "python\n",
            "\t2023\n"
          ]
        }
      ]
    },
    {
      "cell_type": "code",
      "source": [
        "print('I\\'m from Entri.\\b')"
      ],
      "metadata": {
        "colab": {
          "base_uri": "https://localhost:8080/"
        },
        "id": "R2lUryFOkMlS",
        "outputId": "fc6e9d91-91a0-43fb-cfc7-269915e8cb6d"
      },
      "execution_count": 8,
      "outputs": [
        {
          "output_type": "stream",
          "name": "stdout",
          "text": [
            "I'm from Entri.\b\n"
          ]
        }
      ]
    },
    {
      "cell_type": "code",
      "source": [
        "print(\"\\65\")"
      ],
      "metadata": {
        "colab": {
          "base_uri": "https://localhost:8080/"
        },
        "id": "Bcdc3cJtkYR_",
        "outputId": "8b234681-f348-47db-f5fe-50b940b3dc62"
      },
      "execution_count": 9,
      "outputs": [
        {
          "output_type": "stream",
          "name": "stdout",
          "text": [
            "5\n"
          ]
        }
      ]
    },
    {
      "cell_type": "code",
      "source": [
        "print(\"\\x65\")"
      ],
      "metadata": {
        "colab": {
          "base_uri": "https://localhost:8080/"
        },
        "id": "08ZdmXOGkbyz",
        "outputId": "98980d25-3b56-49c3-d0e9-95dc46a4dce0"
      },
      "execution_count": 10,
      "outputs": [
        {
          "output_type": "stream",
          "name": "stdout",
          "text": [
            "e\n"
          ]
        }
      ]
    },
    {
      "cell_type": "code",
      "source": [
        "print(\"Entri\", \"2023\", sep=\"\\n\")"
      ],
      "metadata": {
        "colab": {
          "base_uri": "https://localhost:8080/"
        },
        "id": "mp3fNWCikrXC",
        "outputId": "2d43e057-aa3f-40de-cd54-1ae67cbffc0d"
      },
      "execution_count": 11,
      "outputs": [
        {
          "output_type": "stream",
          "name": "stdout",
          "text": [
            "Entri\n",
            "2023\n"
          ]
        }
      ]
    },
    {
      "cell_type": "code",
      "source": [
        "print(\"Entri\", \"2023\", sep=\"\\b\")"
      ],
      "metadata": {
        "colab": {
          "base_uri": "https://localhost:8080/"
        },
        "id": "5eY1bizbkwGr",
        "outputId": "c570139a-bdff-4cc0-9ffc-8eab057da576"
      },
      "execution_count": 12,
      "outputs": [
        {
          "output_type": "stream",
          "name": "stdout",
          "text": [
            "Entri\b2023\n"
          ]
        }
      ]
    },
    {
      "cell_type": "code",
      "source": [
        "print(\"Entri\", \"2023\", sep=\"*\", end=\"\\b\\b\\b\\b\")"
      ],
      "metadata": {
        "colab": {
          "base_uri": "https://localhost:8080/"
        },
        "id": "NtxZv3VDlFSJ",
        "outputId": "0fed11ae-e618-49ad-962d-d2690162ddb9"
      },
      "execution_count": 14,
      "outputs": [
        {
          "output_type": "stream",
          "name": "stdout",
          "text": [
            "Entri*2023\b\b\b\b"
          ]
        }
      ]
    },
    {
      "cell_type": "markdown",
      "source": [
        "Define the variables below. Print the types of each variable. What is the sum of your variables?"
      ],
      "metadata": {
        "id": "4vM0n2nElVIw"
      }
    },
    {
      "cell_type": "code",
      "source": [
        "# Define the variables\n",
        "num1 = 10\n",
        "num2 = 5.5\n",
        "text = \"Hello\"\n",
        "boolean = True\n",
        "\n",
        "# Print the types of each variable\n",
        "print(\"Type of num1:\", type(num1))\n",
        "print(\"Type of num2:\", type(num2))\n",
        "print(\"Type of text:\", type(text))\n",
        "print(\"Type of boolean:\", type(boolean))\n",
        "\n",
        "# Calculate the sum of num1 and num2 (type conversion to float for addition)\n",
        "sum_result = float(num1) + num2\n",
        "\n",
        "# Print the sum and its datatype\n",
        "print(\"Sum of num1 and num2:\", sum_result)\n",
        "print(\"Datatype of the sum:\", type(sum_result))"
      ],
      "metadata": {
        "colab": {
          "base_uri": "https://localhost:8080/"
        },
        "id": "XmZsJprxlHS6",
        "outputId": "9b9fc108-dbf2-4a62-f25e-eef366342ad2"
      },
      "execution_count": 15,
      "outputs": [
        {
          "output_type": "stream",
          "name": "stdout",
          "text": [
            "Type of num1: <class 'int'>\n",
            "Type of num2: <class 'float'>\n",
            "Type of text: <class 'str'>\n",
            "Type of boolean: <class 'bool'>\n",
            "Sum of num1 and num2: 15.5\n",
            "Datatype of the sum: <class 'float'>\n"
          ]
        }
      ]
    },
    {
      "cell_type": "markdown",
      "source": [
        "calculate the number of minutes in a year using variables for each unit of time. print a statement that describes what your code does also. Create three variables to store no of days in a year, minute in a hour, hours in a day, then calculate the total minutes in a year and print the values\n",
        "(hint) total number of minutes in an year =No.of days in an year * Hours in a day * Minutes in an hour"
      ],
      "metadata": {
        "id": "4YddZdIulofJ"
      }
    },
    {
      "cell_type": "code",
      "source": [
        "# Define variables for units of time\n",
        "days_in_year = 365\n",
        "hours_in_day = 24\n",
        "minutes_in_hour = 60\n",
        "\n",
        "# Calculate the total minutes in a year\n",
        "total_minutes_in_year = days_in_year * hours_in_day * minutes_in_hour\n",
        "\n",
        "# Print a statement describing what the code does\n",
        "print(\"This code calculates the total number of minutes in a year.\")\n",
        "\n",
        "# Print the values of each variable and the total minutes in a year\n",
        "print(\"Number of days in a year:\", days_in_year)\n",
        "print(\"Hours in a day:\", hours_in_day)\n",
        "print(\"Minutes in an hour:\", minutes_in_hour)\n",
        "print(\"Total minutes in a year:\", total_minutes_in_year)"
      ],
      "metadata": {
        "colab": {
          "base_uri": "https://localhost:8080/"
        },
        "id": "mn5IqlWtlz8R",
        "outputId": "b6db1fdc-c650-4bed-eb33-196be3c71c8f"
      },
      "execution_count": 16,
      "outputs": [
        {
          "output_type": "stream",
          "name": "stdout",
          "text": [
            "This code calculates the total number of minutes in a year.\n",
            "Number of days in a year: 365\n",
            "Hours in a day: 24\n",
            "Minutes in an hour: 60\n",
            "Total minutes in a year: 525600\n"
          ]
        }
      ]
    },
    {
      "cell_type": "markdown",
      "source": [
        "Write Python code that asks the user to enter his/her name and then output/prints his/her name with a greeting."
      ],
      "metadata": {
        "id": "BbgB5FDTmHnQ"
      }
    },
    {
      "cell_type": "code",
      "source": [
        "# Ask the user to enter their name\n",
        "name = input(\"Please enter your name: \")\n",
        "\n",
        "# Print a greeting with the user's name\n",
        "print(f\"Hello, {name}! Welcome.\")"
      ],
      "metadata": {
        "colab": {
          "base_uri": "https://localhost:8080/"
        },
        "id": "n2IyCsRQmMmT",
        "outputId": "1e4647e7-2599-4ece-8d93-c5d1f625ddf6"
      },
      "execution_count": 17,
      "outputs": [
        {
          "output_type": "stream",
          "name": "stdout",
          "text": [
            "Please enter your name: hameed\n",
            "Hello, hameed! Welcome.\n"
          ]
        }
      ]
    },
    {
      "cell_type": "markdown",
      "source": [
        "Name your file: PoundsToDollars.py\n",
        "Write a program that asks the user to enter an amount in pounds (£) and the program calculates and converts an amount in dollar ($)"
      ],
      "metadata": {
        "id": "ssRklHeZmW5z"
      }
    },
    {
      "cell_type": "code",
      "source": [
        "# Ask the user to enter an amount in pounds\n",
        "pounds = float(input(\"Enter an amount in pounds (£): \"))\n",
        "\n",
        "# Conversion rate from pounds to dollars\n",
        "conversion_rate = 1.41  # 1 pound = 1.41 dollars (as an example)\n",
        "\n",
        "# Calculate the amount in dollars\n",
        "dollars = pounds * conversion_rate\n",
        "\n",
        "# Print the converted amount in dollars\n",
        "print(f\"{pounds} pounds is equal to {dollars} dollars.\")"
      ],
      "metadata": {
        "colab": {
          "base_uri": "https://localhost:8080/"
        },
        "id": "Z_mL1eBUmfj0",
        "outputId": "69e5bced-2d5c-4a91-9214-614cabd2dc1f"
      },
      "execution_count": 18,
      "outputs": [
        {
          "output_type": "stream",
          "name": "stdout",
          "text": [
            "Enter an amount in pounds (£): 45\n",
            "45.0 pounds is equal to 63.449999999999996 dollars.\n"
          ]
        }
      ]
    }
  ]
}